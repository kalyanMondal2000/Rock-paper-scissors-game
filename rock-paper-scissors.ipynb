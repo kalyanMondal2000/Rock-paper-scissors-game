{
 "cells": [
  {
   "cell_type": "code",
   "execution_count": 11,
   "metadata": {},
   "outputs": [
    {
     "name": "stdout",
     "output_type": "stream",
     "text": [
      "rock, paper or scissors?scissors\n",
      "computer wins\n"
     ]
    }
   ],
   "source": [
    "import random\n",
    "\n",
    "user_answer=input(\"rock, paper or scissors?\")\n",
    "computer_answer=random.randint(1,3) # it makes a random integer\n",
    "\n",
    "# it converts numbers to rock, paper, or scissors\n",
    "if computer_answer==1:\n",
    "    computer_answer='rock'\n",
    "elif computer_answer==2:\n",
    "    computer_answer='paper'\n",
    "elif computer_answer==3:\n",
    "    computer_answer='scissors'\n",
    "\n",
    "# messages for each outcome\n",
    "user_win = 'you win'\n",
    "computer_win = 'computer wins'\n",
    "draw = 'its a draw!'\n",
    "\n",
    "# comparison of the answers\n",
    "if user_answer==computer_answer:\n",
    "    print(draw)\n",
    "elif user_answer=='rock'and computer_answer=='paper':\n",
    "    print(computer_win)\n",
    "elif user_answer=='rock'and computer_answer=='scissors':\n",
    "    print(user_win)\n",
    "elif user_answer=='scissors'and computer_answer=='paper':\n",
    "    print(user_win)\n",
    "elif user_answer=='scissors'and computer_answer=='rock':\n",
    "    print(computer_win)\n",
    "elif user_answer=='paper'and computer_answer=='scissors':\n",
    "    print(computer_win)\n",
    "elif user_answer=='paper'and computer_answer=='rock':\n",
    "    print(user_win)"
   ]
  }
 ],
 "metadata": {
  "kernelspec": {
   "display_name": "Python 3",
   "language": "python",
   "name": "python3"
  },
  "language_info": {
   "codemirror_mode": {
    "name": "ipython",
    "version": 3
   },
   "file_extension": ".py",
   "mimetype": "text/x-python",
   "name": "python",
   "nbconvert_exporter": "python",
   "pygments_lexer": "ipython3",
   "version": "3.7.3"
  }
 },
 "nbformat": 4,
 "nbformat_minor": 2
}
